{
  "cells": [
    {
      "cell_type": "markdown",
      "source": [
        "EXPLAINABLE CHAT DRIVEN LOAN RECOMMENDER"
      ],
      "metadata": {
        "id": "0eb8dWHekIFB"
      }
    },
    {
      "cell_type": "markdown",
      "source": [
        "NECESSARY LIBRARIES"
      ],
      "metadata": {
        "id": "GL03nw3ckNce"
      }
    },
    {
      "cell_type": "code",
      "source": [
        "import numpy as np\n",
        "import pandas as pd\n",
        "import matplotlib.pyplot as plt\n",
        "import seaborn as sns\n",
        "from sklearn.preprocessing import LabelEncoder, StandardScaler\n",
        "import pickle\n",
        "from sklearn.model_selection import train_test_split\n",
        "from xgboost import XGBClassifier\n",
        "from sklearn.metrics import accuracy_score, classification_report,confusion_matrix, ConfusionMatrixDisplay\n",
        "from imblearn.over_sampling import SMOTE\n",
        "import shap\n",
        "import os\n",
        "import joblib\n",
        "from google.colab import files\n",
        "!pip install imbalanced-learn"
      ],
      "metadata": {
        "colab": {
          "base_uri": "https://localhost:8080/"
        },
        "id": "ehQ8kMkwkP1W",
        "outputId": "987fb78d-e5e4-44dd-835c-df55123e7e91"
      },
      "execution_count": null,
      "outputs": [
        {
          "output_type": "stream",
          "name": "stdout",
          "text": [
            "Requirement already satisfied: imbalanced-learn in /usr/local/lib/python3.11/dist-packages (0.13.0)\n",
            "Requirement already satisfied: numpy<3,>=1.24.3 in /usr/local/lib/python3.11/dist-packages (from imbalanced-learn) (2.0.2)\n",
            "Requirement already satisfied: scipy<2,>=1.10.1 in /usr/local/lib/python3.11/dist-packages (from imbalanced-learn) (1.15.3)\n",
            "Requirement already satisfied: scikit-learn<2,>=1.3.2 in /usr/local/lib/python3.11/dist-packages (from imbalanced-learn) (1.6.1)\n",
            "Requirement already satisfied: sklearn-compat<1,>=0.1 in /usr/local/lib/python3.11/dist-packages (from imbalanced-learn) (0.1.3)\n",
            "Requirement already satisfied: joblib<2,>=1.1.1 in /usr/local/lib/python3.11/dist-packages (from imbalanced-learn) (1.5.0)\n",
            "Requirement already satisfied: threadpoolctl<4,>=2.0.0 in /usr/local/lib/python3.11/dist-packages (from imbalanced-learn) (3.6.0)\n"
          ]
        }
      ]
    },
    {
      "cell_type": "markdown",
      "source": [
        "DATASET"
      ],
      "metadata": {
        "id": "hF612twOAikX"
      }
    },
    {
      "cell_type": "code",
      "source": [
        "# Upload the file\n",
        "uploaded = files.upload()\n",
        "\n",
        "# Read the uploaded file into a DataFrame\n",
        "import pandas as pd\n",
        "df = pd.read_csv(\"train_ctrUa4K.csv\")\n",
        "\n",
        "print(\"Dataset uploaded and loaded successfully!\")\n",
        "df.head()  # Display first few rows"
      ],
      "metadata": {
        "colab": {
          "base_uri": "https://localhost:8080/",
          "height": 317
        },
        "id": "_8Q016FhAiMN",
        "outputId": "e1bf5785-b4a4-41f7-dffe-38e243bfbfb1"
      },
      "execution_count": null,
      "outputs": [
        {
          "output_type": "display_data",
          "data": {
            "text/plain": [
              "<IPython.core.display.HTML object>"
            ],
            "text/html": [
              "\n",
              "     <input type=\"file\" id=\"files-03034c1b-d377-4585-ae39-486acdc9c791\" name=\"files[]\" multiple disabled\n",
              "        style=\"border:none\" />\n",
              "     <output id=\"result-03034c1b-d377-4585-ae39-486acdc9c791\">\n",
              "      Upload widget is only available when the cell has been executed in the\n",
              "      current browser session. Please rerun this cell to enable.\n",
              "      </output>\n",
              "      <script>// Copyright 2017 Google LLC\n",
              "//\n",
              "// Licensed under the Apache License, Version 2.0 (the \"License\");\n",
              "// you may not use this file except in compliance with the License.\n",
              "// You may obtain a copy of the License at\n",
              "//\n",
              "//      http://www.apache.org/licenses/LICENSE-2.0\n",
              "//\n",
              "// Unless required by applicable law or agreed to in writing, software\n",
              "// distributed under the License is distributed on an \"AS IS\" BASIS,\n",
              "// WITHOUT WARRANTIES OR CONDITIONS OF ANY KIND, either express or implied.\n",
              "// See the License for the specific language governing permissions and\n",
              "// limitations under the License.\n",
              "\n",
              "/**\n",
              " * @fileoverview Helpers for google.colab Python module.\n",
              " */\n",
              "(function(scope) {\n",
              "function span(text, styleAttributes = {}) {\n",
              "  const element = document.createElement('span');\n",
              "  element.textContent = text;\n",
              "  for (const key of Object.keys(styleAttributes)) {\n",
              "    element.style[key] = styleAttributes[key];\n",
              "  }\n",
              "  return element;\n",
              "}\n",
              "\n",
              "// Max number of bytes which will be uploaded at a time.\n",
              "const MAX_PAYLOAD_SIZE = 100 * 1024;\n",
              "\n",
              "function _uploadFiles(inputId, outputId) {\n",
              "  const steps = uploadFilesStep(inputId, outputId);\n",
              "  const outputElement = document.getElementById(outputId);\n",
              "  // Cache steps on the outputElement to make it available for the next call\n",
              "  // to uploadFilesContinue from Python.\n",
              "  outputElement.steps = steps;\n",
              "\n",
              "  return _uploadFilesContinue(outputId);\n",
              "}\n",
              "\n",
              "// This is roughly an async generator (not supported in the browser yet),\n",
              "// where there are multiple asynchronous steps and the Python side is going\n",
              "// to poll for completion of each step.\n",
              "// This uses a Promise to block the python side on completion of each step,\n",
              "// then passes the result of the previous step as the input to the next step.\n",
              "function _uploadFilesContinue(outputId) {\n",
              "  const outputElement = document.getElementById(outputId);\n",
              "  const steps = outputElement.steps;\n",
              "\n",
              "  const next = steps.next(outputElement.lastPromiseValue);\n",
              "  return Promise.resolve(next.value.promise).then((value) => {\n",
              "    // Cache the last promise value to make it available to the next\n",
              "    // step of the generator.\n",
              "    outputElement.lastPromiseValue = value;\n",
              "    return next.value.response;\n",
              "  });\n",
              "}\n",
              "\n",
              "/**\n",
              " * Generator function which is called between each async step of the upload\n",
              " * process.\n",
              " * @param {string} inputId Element ID of the input file picker element.\n",
              " * @param {string} outputId Element ID of the output display.\n",
              " * @return {!Iterable<!Object>} Iterable of next steps.\n",
              " */\n",
              "function* uploadFilesStep(inputId, outputId) {\n",
              "  const inputElement = document.getElementById(inputId);\n",
              "  inputElement.disabled = false;\n",
              "\n",
              "  const outputElement = document.getElementById(outputId);\n",
              "  outputElement.innerHTML = '';\n",
              "\n",
              "  const pickedPromise = new Promise((resolve) => {\n",
              "    inputElement.addEventListener('change', (e) => {\n",
              "      resolve(e.target.files);\n",
              "    });\n",
              "  });\n",
              "\n",
              "  const cancel = document.createElement('button');\n",
              "  inputElement.parentElement.appendChild(cancel);\n",
              "  cancel.textContent = 'Cancel upload';\n",
              "  const cancelPromise = new Promise((resolve) => {\n",
              "    cancel.onclick = () => {\n",
              "      resolve(null);\n",
              "    };\n",
              "  });\n",
              "\n",
              "  // Wait for the user to pick the files.\n",
              "  const files = yield {\n",
              "    promise: Promise.race([pickedPromise, cancelPromise]),\n",
              "    response: {\n",
              "      action: 'starting',\n",
              "    }\n",
              "  };\n",
              "\n",
              "  cancel.remove();\n",
              "\n",
              "  // Disable the input element since further picks are not allowed.\n",
              "  inputElement.disabled = true;\n",
              "\n",
              "  if (!files) {\n",
              "    return {\n",
              "      response: {\n",
              "        action: 'complete',\n",
              "      }\n",
              "    };\n",
              "  }\n",
              "\n",
              "  for (const file of files) {\n",
              "    const li = document.createElement('li');\n",
              "    li.append(span(file.name, {fontWeight: 'bold'}));\n",
              "    li.append(span(\n",
              "        `(${file.type || 'n/a'}) - ${file.size} bytes, ` +\n",
              "        `last modified: ${\n",
              "            file.lastModifiedDate ? file.lastModifiedDate.toLocaleDateString() :\n",
              "                                    'n/a'} - `));\n",
              "    const percent = span('0% done');\n",
              "    li.appendChild(percent);\n",
              "\n",
              "    outputElement.appendChild(li);\n",
              "\n",
              "    const fileDataPromise = new Promise((resolve) => {\n",
              "      const reader = new FileReader();\n",
              "      reader.onload = (e) => {\n",
              "        resolve(e.target.result);\n",
              "      };\n",
              "      reader.readAsArrayBuffer(file);\n",
              "    });\n",
              "    // Wait for the data to be ready.\n",
              "    let fileData = yield {\n",
              "      promise: fileDataPromise,\n",
              "      response: {\n",
              "        action: 'continue',\n",
              "      }\n",
              "    };\n",
              "\n",
              "    // Use a chunked sending to avoid message size limits. See b/62115660.\n",
              "    let position = 0;\n",
              "    do {\n",
              "      const length = Math.min(fileData.byteLength - position, MAX_PAYLOAD_SIZE);\n",
              "      const chunk = new Uint8Array(fileData, position, length);\n",
              "      position += length;\n",
              "\n",
              "      const base64 = btoa(String.fromCharCode.apply(null, chunk));\n",
              "      yield {\n",
              "        response: {\n",
              "          action: 'append',\n",
              "          file: file.name,\n",
              "          data: base64,\n",
              "        },\n",
              "      };\n",
              "\n",
              "      let percentDone = fileData.byteLength === 0 ?\n",
              "          100 :\n",
              "          Math.round((position / fileData.byteLength) * 100);\n",
              "      percent.textContent = `${percentDone}% done`;\n",
              "\n",
              "    } while (position < fileData.byteLength);\n",
              "  }\n",
              "\n",
              "  // All done.\n",
              "  yield {\n",
              "    response: {\n",
              "      action: 'complete',\n",
              "    }\n",
              "  };\n",
              "}\n",
              "\n",
              "scope.google = scope.google || {};\n",
              "scope.google.colab = scope.google.colab || {};\n",
              "scope.google.colab._files = {\n",
              "  _uploadFiles,\n",
              "  _uploadFilesContinue,\n",
              "};\n",
              "})(self);\n",
              "</script> "
            ]
          },
          "metadata": {}
        },
        {
          "output_type": "stream",
          "name": "stdout",
          "text": [
            "Saving train_ctrUa4K.csv to train_ctrUa4K.csv\n",
            "Dataset uploaded and loaded successfully!\n"
          ]
        },
        {
          "output_type": "execute_result",
          "data": {
            "text/plain": [
              "    Loan_ID Gender Married Dependents     Education Self_Employed  \\\n",
              "0  LP001002   Male      No          0      Graduate            No   \n",
              "1  LP001003   Male     Yes          1      Graduate            No   \n",
              "2  LP001005   Male     Yes          0      Graduate           Yes   \n",
              "3  LP001006   Male     Yes          0  Not Graduate            No   \n",
              "4  LP001008   Male      No          0      Graduate            No   \n",
              "\n",
              "   ApplicantIncome  CoapplicantIncome  LoanAmount  Loan_Amount_Term  \\\n",
              "0             5849                0.0         NaN             360.0   \n",
              "1             4583             1508.0       128.0             360.0   \n",
              "2             3000                0.0        66.0             360.0   \n",
              "3             2583             2358.0       120.0             360.0   \n",
              "4             6000                0.0       141.0             360.0   \n",
              "\n",
              "   Credit_History Property_Area Loan_Status  \n",
              "0             1.0         Urban           Y  \n",
              "1             1.0         Rural           N  \n",
              "2             1.0         Urban           Y  \n",
              "3             1.0         Urban           Y  \n",
              "4             1.0         Urban           Y  "
            ],
            "text/html": [
              "\n",
              "  <div id=\"df-30be2ca6-81da-4b6e-bc72-90c56512a370\" class=\"colab-df-container\">\n",
              "    <div>\n",
              "<style scoped>\n",
              "    .dataframe tbody tr th:only-of-type {\n",
              "        vertical-align: middle;\n",
              "    }\n",
              "\n",
              "    .dataframe tbody tr th {\n",
              "        vertical-align: top;\n",
              "    }\n",
              "\n",
              "    .dataframe thead th {\n",
              "        text-align: right;\n",
              "    }\n",
              "</style>\n",
              "<table border=\"1\" class=\"dataframe\">\n",
              "  <thead>\n",
              "    <tr style=\"text-align: right;\">\n",
              "      <th></th>\n",
              "      <th>Loan_ID</th>\n",
              "      <th>Gender</th>\n",
              "      <th>Married</th>\n",
              "      <th>Dependents</th>\n",
              "      <th>Education</th>\n",
              "      <th>Self_Employed</th>\n",
              "      <th>ApplicantIncome</th>\n",
              "      <th>CoapplicantIncome</th>\n",
              "      <th>LoanAmount</th>\n",
              "      <th>Loan_Amount_Term</th>\n",
              "      <th>Credit_History</th>\n",
              "      <th>Property_Area</th>\n",
              "      <th>Loan_Status</th>\n",
              "    </tr>\n",
              "  </thead>\n",
              "  <tbody>\n",
              "    <tr>\n",
              "      <th>0</th>\n",
              "      <td>LP001002</td>\n",
              "      <td>Male</td>\n",
              "      <td>No</td>\n",
              "      <td>0</td>\n",
              "      <td>Graduate</td>\n",
              "      <td>No</td>\n",
              "      <td>5849</td>\n",
              "      <td>0.0</td>\n",
              "      <td>NaN</td>\n",
              "      <td>360.0</td>\n",
              "      <td>1.0</td>\n",
              "      <td>Urban</td>\n",
              "      <td>Y</td>\n",
              "    </tr>\n",
              "    <tr>\n",
              "      <th>1</th>\n",
              "      <td>LP001003</td>\n",
              "      <td>Male</td>\n",
              "      <td>Yes</td>\n",
              "      <td>1</td>\n",
              "      <td>Graduate</td>\n",
              "      <td>No</td>\n",
              "      <td>4583</td>\n",
              "      <td>1508.0</td>\n",
              "      <td>128.0</td>\n",
              "      <td>360.0</td>\n",
              "      <td>1.0</td>\n",
              "      <td>Rural</td>\n",
              "      <td>N</td>\n",
              "    </tr>\n",
              "    <tr>\n",
              "      <th>2</th>\n",
              "      <td>LP001005</td>\n",
              "      <td>Male</td>\n",
              "      <td>Yes</td>\n",
              "      <td>0</td>\n",
              "      <td>Graduate</td>\n",
              "      <td>Yes</td>\n",
              "      <td>3000</td>\n",
              "      <td>0.0</td>\n",
              "      <td>66.0</td>\n",
              "      <td>360.0</td>\n",
              "      <td>1.0</td>\n",
              "      <td>Urban</td>\n",
              "      <td>Y</td>\n",
              "    </tr>\n",
              "    <tr>\n",
              "      <th>3</th>\n",
              "      <td>LP001006</td>\n",
              "      <td>Male</td>\n",
              "      <td>Yes</td>\n",
              "      <td>0</td>\n",
              "      <td>Not Graduate</td>\n",
              "      <td>No</td>\n",
              "      <td>2583</td>\n",
              "      <td>2358.0</td>\n",
              "      <td>120.0</td>\n",
              "      <td>360.0</td>\n",
              "      <td>1.0</td>\n",
              "      <td>Urban</td>\n",
              "      <td>Y</td>\n",
              "    </tr>\n",
              "    <tr>\n",
              "      <th>4</th>\n",
              "      <td>LP001008</td>\n",
              "      <td>Male</td>\n",
              "      <td>No</td>\n",
              "      <td>0</td>\n",
              "      <td>Graduate</td>\n",
              "      <td>No</td>\n",
              "      <td>6000</td>\n",
              "      <td>0.0</td>\n",
              "      <td>141.0</td>\n",
              "      <td>360.0</td>\n",
              "      <td>1.0</td>\n",
              "      <td>Urban</td>\n",
              "      <td>Y</td>\n",
              "    </tr>\n",
              "  </tbody>\n",
              "</table>\n",
              "</div>\n",
              "    <div class=\"colab-df-buttons\">\n",
              "\n",
              "  <div class=\"colab-df-container\">\n",
              "    <button class=\"colab-df-convert\" onclick=\"convertToInteractive('df-30be2ca6-81da-4b6e-bc72-90c56512a370')\"\n",
              "            title=\"Convert this dataframe to an interactive table.\"\n",
              "            style=\"display:none;\">\n",
              "\n",
              "  <svg xmlns=\"http://www.w3.org/2000/svg\" height=\"24px\" viewBox=\"0 -960 960 960\">\n",
              "    <path d=\"M120-120v-720h720v720H120Zm60-500h600v-160H180v160Zm220 220h160v-160H400v160Zm0 220h160v-160H400v160ZM180-400h160v-160H180v160Zm440 0h160v-160H620v160ZM180-180h160v-160H180v160Zm440 0h160v-160H620v160Z\"/>\n",
              "  </svg>\n",
              "    </button>\n",
              "\n",
              "  <style>\n",
              "    .colab-df-container {\n",
              "      display:flex;\n",
              "      gap: 12px;\n",
              "    }\n",
              "\n",
              "    .colab-df-convert {\n",
              "      background-color: #E8F0FE;\n",
              "      border: none;\n",
              "      border-radius: 50%;\n",
              "      cursor: pointer;\n",
              "      display: none;\n",
              "      fill: #1967D2;\n",
              "      height: 32px;\n",
              "      padding: 0 0 0 0;\n",
              "      width: 32px;\n",
              "    }\n",
              "\n",
              "    .colab-df-convert:hover {\n",
              "      background-color: #E2EBFA;\n",
              "      box-shadow: 0px 1px 2px rgba(60, 64, 67, 0.3), 0px 1px 3px 1px rgba(60, 64, 67, 0.15);\n",
              "      fill: #174EA6;\n",
              "    }\n",
              "\n",
              "    .colab-df-buttons div {\n",
              "      margin-bottom: 4px;\n",
              "    }\n",
              "\n",
              "    [theme=dark] .colab-df-convert {\n",
              "      background-color: #3B4455;\n",
              "      fill: #D2E3FC;\n",
              "    }\n",
              "\n",
              "    [theme=dark] .colab-df-convert:hover {\n",
              "      background-color: #434B5C;\n",
              "      box-shadow: 0px 1px 3px 1px rgba(0, 0, 0, 0.15);\n",
              "      filter: drop-shadow(0px 1px 2px rgba(0, 0, 0, 0.3));\n",
              "      fill: #FFFFFF;\n",
              "    }\n",
              "  </style>\n",
              "\n",
              "    <script>\n",
              "      const buttonEl =\n",
              "        document.querySelector('#df-30be2ca6-81da-4b6e-bc72-90c56512a370 button.colab-df-convert');\n",
              "      buttonEl.style.display =\n",
              "        google.colab.kernel.accessAllowed ? 'block' : 'none';\n",
              "\n",
              "      async function convertToInteractive(key) {\n",
              "        const element = document.querySelector('#df-30be2ca6-81da-4b6e-bc72-90c56512a370');\n",
              "        const dataTable =\n",
              "          await google.colab.kernel.invokeFunction('convertToInteractive',\n",
              "                                                    [key], {});\n",
              "        if (!dataTable) return;\n",
              "\n",
              "        const docLinkHtml = 'Like what you see? Visit the ' +\n",
              "          '<a target=\"_blank\" href=https://colab.research.google.com/notebooks/data_table.ipynb>data table notebook</a>'\n",
              "          + ' to learn more about interactive tables.';\n",
              "        element.innerHTML = '';\n",
              "        dataTable['output_type'] = 'display_data';\n",
              "        await google.colab.output.renderOutput(dataTable, element);\n",
              "        const docLink = document.createElement('div');\n",
              "        docLink.innerHTML = docLinkHtml;\n",
              "        element.appendChild(docLink);\n",
              "      }\n",
              "    </script>\n",
              "  </div>\n",
              "\n",
              "\n",
              "    <div id=\"df-b5436fff-09ef-4c2c-8fe7-7530c8294037\">\n",
              "      <button class=\"colab-df-quickchart\" onclick=\"quickchart('df-b5436fff-09ef-4c2c-8fe7-7530c8294037')\"\n",
              "                title=\"Suggest charts\"\n",
              "                style=\"display:none;\">\n",
              "\n",
              "<svg xmlns=\"http://www.w3.org/2000/svg\" height=\"24px\"viewBox=\"0 0 24 24\"\n",
              "     width=\"24px\">\n",
              "    <g>\n",
              "        <path d=\"M19 3H5c-1.1 0-2 .9-2 2v14c0 1.1.9 2 2 2h14c1.1 0 2-.9 2-2V5c0-1.1-.9-2-2-2zM9 17H7v-7h2v7zm4 0h-2V7h2v10zm4 0h-2v-4h2v4z\"/>\n",
              "    </g>\n",
              "</svg>\n",
              "      </button>\n",
              "\n",
              "<style>\n",
              "  .colab-df-quickchart {\n",
              "      --bg-color: #E8F0FE;\n",
              "      --fill-color: #1967D2;\n",
              "      --hover-bg-color: #E2EBFA;\n",
              "      --hover-fill-color: #174EA6;\n",
              "      --disabled-fill-color: #AAA;\n",
              "      --disabled-bg-color: #DDD;\n",
              "  }\n",
              "\n",
              "  [theme=dark] .colab-df-quickchart {\n",
              "      --bg-color: #3B4455;\n",
              "      --fill-color: #D2E3FC;\n",
              "      --hover-bg-color: #434B5C;\n",
              "      --hover-fill-color: #FFFFFF;\n",
              "      --disabled-bg-color: #3B4455;\n",
              "      --disabled-fill-color: #666;\n",
              "  }\n",
              "\n",
              "  .colab-df-quickchart {\n",
              "    background-color: var(--bg-color);\n",
              "    border: none;\n",
              "    border-radius: 50%;\n",
              "    cursor: pointer;\n",
              "    display: none;\n",
              "    fill: var(--fill-color);\n",
              "    height: 32px;\n",
              "    padding: 0;\n",
              "    width: 32px;\n",
              "  }\n",
              "\n",
              "  .colab-df-quickchart:hover {\n",
              "    background-color: var(--hover-bg-color);\n",
              "    box-shadow: 0 1px 2px rgba(60, 64, 67, 0.3), 0 1px 3px 1px rgba(60, 64, 67, 0.15);\n",
              "    fill: var(--button-hover-fill-color);\n",
              "  }\n",
              "\n",
              "  .colab-df-quickchart-complete:disabled,\n",
              "  .colab-df-quickchart-complete:disabled:hover {\n",
              "    background-color: var(--disabled-bg-color);\n",
              "    fill: var(--disabled-fill-color);\n",
              "    box-shadow: none;\n",
              "  }\n",
              "\n",
              "  .colab-df-spinner {\n",
              "    border: 2px solid var(--fill-color);\n",
              "    border-color: transparent;\n",
              "    border-bottom-color: var(--fill-color);\n",
              "    animation:\n",
              "      spin 1s steps(1) infinite;\n",
              "  }\n",
              "\n",
              "  @keyframes spin {\n",
              "    0% {\n",
              "      border-color: transparent;\n",
              "      border-bottom-color: var(--fill-color);\n",
              "      border-left-color: var(--fill-color);\n",
              "    }\n",
              "    20% {\n",
              "      border-color: transparent;\n",
              "      border-left-color: var(--fill-color);\n",
              "      border-top-color: var(--fill-color);\n",
              "    }\n",
              "    30% {\n",
              "      border-color: transparent;\n",
              "      border-left-color: var(--fill-color);\n",
              "      border-top-color: var(--fill-color);\n",
              "      border-right-color: var(--fill-color);\n",
              "    }\n",
              "    40% {\n",
              "      border-color: transparent;\n",
              "      border-right-color: var(--fill-color);\n",
              "      border-top-color: var(--fill-color);\n",
              "    }\n",
              "    60% {\n",
              "      border-color: transparent;\n",
              "      border-right-color: var(--fill-color);\n",
              "    }\n",
              "    80% {\n",
              "      border-color: transparent;\n",
              "      border-right-color: var(--fill-color);\n",
              "      border-bottom-color: var(--fill-color);\n",
              "    }\n",
              "    90% {\n",
              "      border-color: transparent;\n",
              "      border-bottom-color: var(--fill-color);\n",
              "    }\n",
              "  }\n",
              "</style>\n",
              "\n",
              "      <script>\n",
              "        async function quickchart(key) {\n",
              "          const quickchartButtonEl =\n",
              "            document.querySelector('#' + key + ' button');\n",
              "          quickchartButtonEl.disabled = true;  // To prevent multiple clicks.\n",
              "          quickchartButtonEl.classList.add('colab-df-spinner');\n",
              "          try {\n",
              "            const charts = await google.colab.kernel.invokeFunction(\n",
              "                'suggestCharts', [key], {});\n",
              "          } catch (error) {\n",
              "            console.error('Error during call to suggestCharts:', error);\n",
              "          }\n",
              "          quickchartButtonEl.classList.remove('colab-df-spinner');\n",
              "          quickchartButtonEl.classList.add('colab-df-quickchart-complete');\n",
              "        }\n",
              "        (() => {\n",
              "          let quickchartButtonEl =\n",
              "            document.querySelector('#df-b5436fff-09ef-4c2c-8fe7-7530c8294037 button');\n",
              "          quickchartButtonEl.style.display =\n",
              "            google.colab.kernel.accessAllowed ? 'block' : 'none';\n",
              "        })();\n",
              "      </script>\n",
              "    </div>\n",
              "\n",
              "    </div>\n",
              "  </div>\n"
            ],
            "application/vnd.google.colaboratory.intrinsic+json": {
              "type": "dataframe",
              "variable_name": "df",
              "summary": "{\n  \"name\": \"df\",\n  \"rows\": 614,\n  \"fields\": [\n    {\n      \"column\": \"Loan_ID\",\n      \"properties\": {\n        \"dtype\": \"string\",\n        \"num_unique_values\": 614,\n        \"samples\": [\n          \"LP002139\",\n          \"LP002223\",\n          \"LP001570\"\n        ],\n        \"semantic_type\": \"\",\n        \"description\": \"\"\n      }\n    },\n    {\n      \"column\": \"Gender\",\n      \"properties\": {\n        \"dtype\": \"category\",\n        \"num_unique_values\": 2,\n        \"samples\": [\n          \"Female\",\n          \"Male\"\n        ],\n        \"semantic_type\": \"\",\n        \"description\": \"\"\n      }\n    },\n    {\n      \"column\": \"Married\",\n      \"properties\": {\n        \"dtype\": \"category\",\n        \"num_unique_values\": 2,\n        \"samples\": [\n          \"Yes\",\n          \"No\"\n        ],\n        \"semantic_type\": \"\",\n        \"description\": \"\"\n      }\n    },\n    {\n      \"column\": \"Dependents\",\n      \"properties\": {\n        \"dtype\": \"category\",\n        \"num_unique_values\": 4,\n        \"samples\": [\n          \"1\",\n          \"3+\"\n        ],\n        \"semantic_type\": \"\",\n        \"description\": \"\"\n      }\n    },\n    {\n      \"column\": \"Education\",\n      \"properties\": {\n        \"dtype\": \"category\",\n        \"num_unique_values\": 2,\n        \"samples\": [\n          \"Not Graduate\",\n          \"Graduate\"\n        ],\n        \"semantic_type\": \"\",\n        \"description\": \"\"\n      }\n    },\n    {\n      \"column\": \"Self_Employed\",\n      \"properties\": {\n        \"dtype\": \"category\",\n        \"num_unique_values\": 2,\n        \"samples\": [\n          \"Yes\",\n          \"No\"\n        ],\n        \"semantic_type\": \"\",\n        \"description\": \"\"\n      }\n    },\n    {\n      \"column\": \"ApplicantIncome\",\n      \"properties\": {\n        \"dtype\": \"number\",\n        \"std\": 6109,\n        \"min\": 150,\n        \"max\": 81000,\n        \"num_unique_values\": 505,\n        \"samples\": [\n          8333,\n          4342\n        ],\n        \"semantic_type\": \"\",\n        \"description\": \"\"\n      }\n    },\n    {\n      \"column\": \"CoapplicantIncome\",\n      \"properties\": {\n        \"dtype\": \"number\",\n        \"std\": 2926.2483692241917,\n        \"min\": 0.0,\n        \"max\": 41667.0,\n        \"num_unique_values\": 287,\n        \"samples\": [\n          1840.0,\n          2042.0\n        ],\n        \"semantic_type\": \"\",\n        \"description\": \"\"\n      }\n    },\n    {\n      \"column\": \"LoanAmount\",\n      \"properties\": {\n        \"dtype\": \"number\",\n        \"std\": 85.58732523570545,\n        \"min\": 9.0,\n        \"max\": 700.0,\n        \"num_unique_values\": 203,\n        \"samples\": [\n          100.0,\n          70.0\n        ],\n        \"semantic_type\": \"\",\n        \"description\": \"\"\n      }\n    },\n    {\n      \"column\": \"Loan_Amount_Term\",\n      \"properties\": {\n        \"dtype\": \"number\",\n        \"std\": 65.12040985461256,\n        \"min\": 12.0,\n        \"max\": 480.0,\n        \"num_unique_values\": 10,\n        \"samples\": [\n          84.0,\n          120.0\n        ],\n        \"semantic_type\": \"\",\n        \"description\": \"\"\n      }\n    },\n    {\n      \"column\": \"Credit_History\",\n      \"properties\": {\n        \"dtype\": \"number\",\n        \"std\": 0.3648783192364049,\n        \"min\": 0.0,\n        \"max\": 1.0,\n        \"num_unique_values\": 2,\n        \"samples\": [\n          0.0,\n          1.0\n        ],\n        \"semantic_type\": \"\",\n        \"description\": \"\"\n      }\n    },\n    {\n      \"column\": \"Property_Area\",\n      \"properties\": {\n        \"dtype\": \"category\",\n        \"num_unique_values\": 3,\n        \"samples\": [\n          \"Urban\",\n          \"Rural\"\n        ],\n        \"semantic_type\": \"\",\n        \"description\": \"\"\n      }\n    },\n    {\n      \"column\": \"Loan_Status\",\n      \"properties\": {\n        \"dtype\": \"category\",\n        \"num_unique_values\": 2,\n        \"samples\": [\n          \"N\",\n          \"Y\"\n        ],\n        \"semantic_type\": \"\",\n        \"description\": \"\"\n      }\n    }\n  ]\n}"
            }
          },
          "metadata": {},
          "execution_count": 2
        }
      ]
    },
    {
      "cell_type": "code",
      "source": [
        "# Check number of rows and columns\n",
        "print(\"Shape of the dataset (rows, columns):\", df.shape)\n",
        "\n",
        "# Display column-wise missing values\n",
        "print(\"\\nMissing values in each column:\")\n",
        "print(df.isnull().sum())"
      ],
      "metadata": {
        "colab": {
          "base_uri": "https://localhost:8080/"
        },
        "id": "ZrMrLYHBAzBB",
        "outputId": "f71d8d58-33a9-4493-a732-b3dbf2188597"
      },
      "execution_count": null,
      "outputs": [
        {
          "output_type": "stream",
          "name": "stdout",
          "text": [
            "Shape of the dataset (rows, columns): (614, 13)\n",
            "\n",
            "Missing values in each column:\n",
            "Loan_ID               0\n",
            "Gender               13\n",
            "Married               3\n",
            "Dependents           15\n",
            "Education             0\n",
            "Self_Employed        32\n",
            "ApplicantIncome       0\n",
            "CoapplicantIncome     0\n",
            "LoanAmount           22\n",
            "Loan_Amount_Term     14\n",
            "Credit_History       50\n",
            "Property_Area         0\n",
            "Loan_Status           0\n",
            "dtype: int64\n"
          ]
        }
      ]
    },
    {
      "cell_type": "markdown",
      "source": [
        "PREPROCESSING"
      ],
      "metadata": {
        "id": "DKNEv-gRCaR8"
      }
    },
    {
      "cell_type": "code",
      "source": [
        "# Fill categorical columns with mode\n",
        "for col in ['Gender', 'Married', 'Dependents', 'Self_Employed', 'Loan_Amount_Term', 'Credit_History']:\n",
        "    df[col] = df[col].fillna(df[col].mode()[0])\n",
        "\n",
        "# Fill LoanAmount with median\n",
        "df['LoanAmount']=df['LoanAmount'].fillna(df['LoanAmount'].median())\n",
        "\n",
        "# Check again for missing values\n",
        "print(df.isnull().sum())"
      ],
      "metadata": {
        "colab": {
          "base_uri": "https://localhost:8080/"
        },
        "id": "ks4dU5DrBQK5",
        "outputId": "b34beeee-51d5-4b41-c749-052e7643b65c"
      },
      "execution_count": null,
      "outputs": [
        {
          "output_type": "stream",
          "name": "stdout",
          "text": [
            "Loan_ID              0\n",
            "Gender               0\n",
            "Married              0\n",
            "Dependents           0\n",
            "Education            0\n",
            "Self_Employed        0\n",
            "ApplicantIncome      0\n",
            "CoapplicantIncome    0\n",
            "LoanAmount           0\n",
            "Loan_Amount_Term     0\n",
            "Credit_History       0\n",
            "Property_Area        0\n",
            "Loan_Status          0\n",
            "dtype: int64\n"
          ]
        }
      ]
    },
    {
      "cell_type": "code",
      "source": [
        "# Categorical columns\n",
        "categorical_columns_for_encoding = ['Gender', 'Married', 'Dependents', 'Education', 'Self_Employed', 'Property_Area', 'Loan_Amount_Term']\n",
        "\n",
        "# Re-initialize or ensure label_encoders dictionary is correctly populated\n",
        "# This part is typically done during the initial preprocessing of the training data\n",
        "label_encoders = {}\n",
        "for col in categorical_columns_for_encoding:\n",
        "    le = LabelEncoder()\n",
        "    try:\n",
        "        df[col] = le.fit_transform(df[col])\n",
        "        label_encoders[col] = le\n",
        "    except Exception as e:\n",
        "        print(f\"Error fitting LabelEncoder for column {col}: {e}\")\n",
        "        print(\"Ensure the column contains appropriate data for encoding.\")\n",
        "\n",
        "\n",
        "# Numerical columns\n",
        "num_cols = ['ApplicantIncome', 'CoapplicantIncome', 'LoanAmount', 'Credit_History']\n",
        "scaler = StandardScaler()\n",
        "df[num_cols] = scaler.fit_transform(df[num_cols])\n",
        "\n",
        "# Encode target\n",
        "target_encoder = LabelEncoder()\n",
        "df['Loan_Status'] = target_encoder.fit_transform(df['Loan_Status'])\n",
        "\n",
        "# Save target encoder for use during inference\n",
        "with open('label_encoder.pkl', 'wb') as f:\n",
        "    pickle.dump(target_encoder, f)\n",
        "\n",
        "# Now split data\n",
        "X = df.drop(columns=['Loan_Status'])\n",
        "y = df['Loan_Status']\n",
        "print(df.head())"
      ],
      "metadata": {
        "colab": {
          "base_uri": "https://localhost:8080/"
        },
        "id": "8rSfmjUhCznf",
        "outputId": "1dca2a66-b50c-4fd4-c546-c7358ab41e6d"
      },
      "execution_count": null,
      "outputs": [
        {
          "output_type": "stream",
          "name": "stdout",
          "text": [
            "    Loan_ID  Gender  Married  Dependents  Education  Self_Employed  \\\n",
            "0  LP001002       1        0           0          0              0   \n",
            "1  LP001003       1        1           1          0              0   \n",
            "2  LP001005       1        1           0          0              1   \n",
            "3  LP001006       1        1           0          1              0   \n",
            "4  LP001008       1        0           0          0              0   \n",
            "\n",
            "   ApplicantIncome  CoapplicantIncome  LoanAmount  Loan_Amount_Term  \\\n",
            "0         0.072991          -0.554487   -0.211241                 8   \n",
            "1        -0.134412          -0.038732   -0.211241                 8   \n",
            "2        -0.393747          -0.554487   -0.948996                 8   \n",
            "3        -0.462062           0.251980   -0.306435                 8   \n",
            "4         0.097728          -0.554487   -0.056551                 8   \n",
            "\n",
            "   Credit_History  Property_Area  Loan_Status  \n",
            "0        0.411733              2            1  \n",
            "1        0.411733              0            0  \n",
            "2        0.411733              2            1  \n",
            "3        0.411733              2            1  \n",
            "4        0.411733              2            1  \n"
          ]
        }
      ]
    },
    {
      "cell_type": "markdown",
      "source": [
        "TRAIN-TEST-SPLIT"
      ],
      "metadata": {
        "id": "td0JwmYuGl3J"
      }
    },
    {
      "cell_type": "code",
      "source": [
        "X = df.drop(columns=['Loan_ID', 'Loan_Status'])\n",
        "y = df['Loan_Status']  # convert to binary\n",
        "X_train, X_val, y_train, y_val = train_test_split(\n",
        "    X, y, test_size=0.2, random_state=42, stratify=y\n",
        ")"
      ],
      "metadata": {
        "id": "V5XkUeBTDZUn"
      },
      "execution_count": null,
      "outputs": []
    },
    {
      "cell_type": "markdown",
      "source": [
        "TRAINING THE MODEL"
      ],
      "metadata": {
        "id": "4kdXH2tuHIai"
      }
    },
    {
      "cell_type": "code",
      "source": [
        "model = XGBClassifier(\n",
        "    eval_metric='logloss',\n",
        "    random_state=42,\n",
        "    reg_alpha=0.1,\n",
        "    reg_lambda=1.0,\n",
        "    gamma=0.1\n",
        ")  # Removed use_label_encoder\n",
        "model.fit(X_train, y_train)\n",
        "\n",
        "y_pred = model.predict(X_val)\n",
        "print(\"Validation Accuracy:\", accuracy_score(y_val, y_pred))\n",
        "print(classification_report(y_val, y_pred))"
      ],
      "metadata": {
        "colab": {
          "base_uri": "https://localhost:8080/"
        },
        "id": "K_qojFdnG8zX",
        "outputId": "2aaddbbb-4af4-42cd-c2ea-b8bbf6a3fadc"
      },
      "execution_count": null,
      "outputs": [
        {
          "output_type": "stream",
          "name": "stdout",
          "text": [
            "Validation Accuracy: 0.7886178861788617\n",
            "              precision    recall  f1-score   support\n",
            "\n",
            "           0       0.68      0.61      0.64        38\n",
            "           1       0.83      0.87      0.85        85\n",
            "\n",
            "    accuracy                           0.79       123\n",
            "   macro avg       0.75      0.74      0.74       123\n",
            "weighted avg       0.78      0.79      0.79       123\n",
            "\n"
          ]
        }
      ]
    },
    {
      "cell_type": "code",
      "source": [
        "cm = confusion_matrix(y_val, y_pred)\n",
        "disp = ConfusionMatrixDisplay(confusion_matrix=cm, display_labels=model.classes_)\n",
        "disp.plot(cmap=plt.cm.Blues)\n",
        "plt.title(\"Confusion Matrix - Validation Set\")\n",
        "plt.show()"
      ],
      "metadata": {
        "colab": {
          "base_uri": "https://localhost:8080/",
          "height": 472
        },
        "id": "7NwYtgecDNNn",
        "outputId": "b1566181-5848-486f-9f0b-7e4ef01d1475"
      },
      "execution_count": null,
      "outputs": [
        {
          "output_type": "display_data",
          "data": {
            "text/plain": [
              "<Figure size 640x480 with 2 Axes>"
            ],
            "image/png": "[encoded data removed]"
          },
          "metadata": {}
        }
      ]
    },
    {
      "cell_type": "code",
      "source": [
        "# Predict on training data\n",
        "y_train_pred = model.predict(X_train)  # or X_train_smote if training on SMOTE data\n",
        "train_acc = accuracy_score(y_train, y_train_pred)\n",
        "print(\"Training Accuracy:\", train_acc)"
      ],
      "metadata": {
        "colab": {
          "base_uri": "https://localhost:8080/"
        },
        "id": "f1z0hNP6V1K0",
        "outputId": "20059ab5-1d0d-47b4-de06-4a2299ff0f9a"
      },
      "execution_count": null,
      "outputs": [
        {
          "output_type": "stream",
          "name": "stdout",
          "text": [
            "Training Accuracy: 0.9857433808553971\n"
          ]
        }
      ]
    },
    {
      "cell_type": "code",
      "source": [
        "sns.countplot(x=y_train)\n",
        "plt.title('Class Distribution Before SMOTE')\n",
        "plt.show()"
      ],
      "metadata": {
        "colab": {
          "base_uri": "https://localhost:8080/",
          "height": 472
        },
        "id": "JCIA-UqbI8Vy",
        "outputId": "5232cf4f-1073-4434-b0b4-f083a25ad459"
      },
      "execution_count": null,
      "outputs": [
        {
          "output_type": "display_data",
          "data": {
            "text/plain": [
              "<Figure size 640x480 with 1 Axes>"
            ],
            "image/png": "[encoded data removed]"
          },
          "metadata": {}
        }
      ]
    },
    {
      "cell_type": "markdown",
      "source": [
        "HANDLING CLASS IMBALANCE USING SMOTE"
      ],
      "metadata": {
        "id": "ep02MC2FH38S"
      }
    },
    {
      "cell_type": "code",
      "source": [
        "from imblearn.over_sampling import SMOTE\n",
        "\n",
        "smote = SMOTE(random_state=42)\n",
        "X_train_sm, y_train_sm = smote.fit_resample(X_train, y_train)"
      ],
      "metadata": {
        "id": "sZjCoQSMH9F9"
      },
      "execution_count": null,
      "outputs": []
    },
    {
      "cell_type": "code",
      "source": [
        "model.fit(X_train_sm, y_train_sm)\n",
        "\n",
        "y_pred_sm = model.predict(X_val)\n",
        "print(\"Validation Accuracy after SMOTE:\", accuracy_score(y_val, y_pred_sm))\n",
        "print(classification_report(y_val, y_pred_sm))"
      ],
      "metadata": {
        "colab": {
          "base_uri": "https://localhost:8080/"
        },
        "id": "xqI_gYtmIAWB",
        "outputId": "dcf59529-6a3b-48f6-d6e8-3a2d0555f695"
      },
      "execution_count": null,
      "outputs": [
        {
          "output_type": "stream",
          "name": "stdout",
          "text": [
            "Validation Accuracy after SMOTE: 0.7479674796747967\n",
            "              precision    recall  f1-score   support\n",
            "\n",
            "           0       0.58      0.68      0.63        38\n",
            "           1       0.85      0.78      0.81        85\n",
            "\n",
            "    accuracy                           0.75       123\n",
            "   macro avg       0.71      0.73      0.72       123\n",
            "weighted avg       0.76      0.75      0.75       123\n",
            "\n"
          ]
        }
      ]
    },
    {
      "cell_type": "code",
      "source": [
        "cm = confusion_matrix(y_val, y_pred_sm)\n",
        "disp = ConfusionMatrixDisplay(confusion_matrix=cm, display_labels=model.classes_)\n",
        "disp.plot(cmap=plt.cm.Blues)\n",
        "plt.title(\"Confusion Matrix - Validation Set after SMOTE\")\n",
        "plt.show()"
      ],
      "metadata": {
        "colab": {
          "base_uri": "https://localhost:8080/",
          "height": 472
        },
        "id": "cvss4WyoziQd",
        "outputId": "de6f000c-61f3-4074-8169-8f54e255aa61"
      },
      "execution_count": null,
      "outputs": [
        {
          "output_type": "display_data",
          "data": {
            "text/plain": [
              "<Figure size 640x480 with 2 Axes>"
            ],
            "image/png": "[encoded data removed]"
          },
          "metadata": {}
        }
      ]
    },
    {
      "cell_type": "code",
      "source": [
        "y_train_pred_sm = model.predict(X_train_sm)\n",
        "train_acc_sm = accuracy_score(y_train_sm, y_train_pred_sm)\n",
        "print(\"Training Accuracy on SMOTE data:\", train_acc_sm)"
      ],
      "metadata": {
        "colab": {
          "base_uri": "https://localhost:8080/"
        },
        "id": "P34tLeHlV8EZ",
        "outputId": "0d612d5e-206a-4663-edd0-0e1e2073a24d"
      },
      "execution_count": null,
      "outputs": [
        {
          "output_type": "stream",
          "name": "stdout",
          "text": [
            "Training Accuracy on SMOTE data: 0.9940652818991098\n"
          ]
        }
      ]
    },
    {
      "cell_type": "code",
      "source": [
        "sns.countplot(x=y_train_sm)\n",
        "plt.title('Class Distribution After SMOTE')\n",
        "plt.show()"
      ],
      "metadata": {
        "colab": {
          "base_uri": "https://localhost:8080/",
          "height": 472
        },
        "id": "Aa40sOOcIDSs",
        "outputId": "785c8829-de39-4e7d-a54f-1f889f0ae4d9"
      },
      "execution_count": null,
      "outputs": [
        {
          "output_type": "display_data",
          "data": {
            "text/plain": [
              "<Figure size 640x480 with 1 Axes>"
            ],
            "image/png": "[encoded data removed]"
          },
          "metadata": {}
        }
      ]
    },
    {
      "cell_type": "markdown",
      "source": [
        "SHAP EXPLANATIONS"
      ],
      "metadata": {
        "id": "-Z-i4GQbLW1z"
      }
    },
    {
      "cell_type": "code",
      "source": [
        "# Assuming your model is trained: model\n",
        "# X_val is your validation features (scaled, encoded, etc.)\n",
        "\n",
        "explainer = shap.TreeExplainer(model)\n",
        "shap_values = explainer.shap_values(X_val)\n",
        "\n",
        "# Example: summary plot of feature importance for all validation samples\n",
        "num_samples = X_val.shape[0]\n",
        "print(f\"Number of samples in validation set: {num_samples}\")\n",
        "\n",
        "shap.summary_plot(shap_values, X_val, plot_type=\"bar\")\n",
        "\n",
        "# WHICH FEATURE MOST INFLUENCE A REJECTION - GIVES SHAP VALUE PER FEATURE PER SAMPLE"
      ],
      "metadata": {
        "colab": {
          "base_uri": "https://localhost:8080/",
          "height": 508
        },
        "id": "t4inPMqbJFBl",
        "outputId": "96e63265-2659-4554-de42-d4bb931e82d9"
      },
      "execution_count": null,
      "outputs": [
        {
          "output_type": "stream",
          "name": "stdout",
          "text": [
            "Number of samples in validation set: 123\n"
          ]
        },
        {
          "output_type": "display_data",
          "data": {
            "text/plain": [
              "<Figure size 800x590 with 1 Axes>"
            ],
            "image/png": "[encoded data removed]"
          },
          "metadata": {}
        }
      ]
    },
    {
      "cell_type": "code",
      "source": [
        "def shap_explanation_for_sample(shap_values, X_val, sample_index):\n",
        "    # Get feature names and shap values for this sample\n",
        "    feature_names = X_val.columns\n",
        "    sample_shap_values = shap_values[sample_index]\n",
        "    sample_features = X_val.iloc[sample_index]\n",
        "\n",
        "    # Create a DataFrame of features with their SHAP impact values\n",
        "    shap_df = pd.DataFrame({\n",
        "        'Feature': feature_names,\n",
        "        'SHAP Value': sample_shap_values,\n",
        "        'Feature Value': sample_features\n",
        "    }).sort_values(by='SHAP Value', key=abs, ascending=False)\n",
        "\n",
        "    return shap_df\n",
        "# We want to zoom in on one specific loan applicant and find out:\n",
        "# What influenced the model to approve or reject their loan?\n",
        "# Which features had the biggest effect?\n",
        "# In what direction (positive or negative)?"
      ],
      "metadata": {
        "id": "Vwv24IleLaji"
      },
      "execution_count": null,
      "outputs": []
    },
    {
      "cell_type": "code",
      "source": [
        "feature_explanations = {\n",
        "    'Credit_History': \"Your credit history is a major factor. A poor or missing credit history negatively affects approval.\",\n",
        "    'LoanAmount': \"The loan amount you requested might be too high relative to your income.\",\n",
        "    'ApplicantIncome': \"Your income level affects your ability to repay the loan.\",\n",
        "    'CoapplicantIncome': \"If you have a co-applicant with sufficient income, it helps your application.\",\n",
        "    'Loan_Amount_Term': \"The loan repayment term impacts your monthly payments and approval chances.\",\n",
        "    'Property_Area': \"The location of the property can influence loan decisions.\",\n",
        "    'Dependents': \"Number of dependents affects your financial obligations.\",\n",
        "    'Education': \"Your education level may influence lender confidence.\",\n",
        "    'Self_Employed': \"Being self-employed can affect your income stability assessment.\",\n",
        "    'Gender': \"Gender may have indirect influences in credit decisions.\",\n",
        "    'Married': \"Marital status might be considered for loan approval.\",\n",
        "    # Add more if needed\n",
        "}\n",
        "\n",
        "def generate_layman_text(shap_df):\n",
        "    top_features = shap_df.head(3)\n",
        "    messages = []\n",
        "    for _, row in top_features.iterrows():\n",
        "        feat = row['Feature']\n",
        "        val = row['Feature Value']\n",
        "        impact = row['SHAP Value']\n",
        "\n",
        "        # Custom explanations depending on feature and value\n",
        "        if feat == 'Credit_History':\n",
        "            if val == 0:\n",
        "                explanation = \"Your credit history is missing or poor, which strongly decreases your chance.\"\n",
        "            else:\n",
        "                explanation = \"You have a good credit history, positively influencing your application.\"\n",
        "        elif feat == 'LoanAmount':\n",
        "            if val > 0.5:  # since scaled, check threshold accordingly\n",
        "                explanation = \"The loan amount you requested is quite high compared to typical amounts, which may reduce approval chances.\"\n",
        "            else:\n",
        "                explanation = \"Your requested loan amount is reasonable.\"\n",
        "        elif feat == 'ApplicantIncome':\n",
        "            if val < 0:\n",
        "                explanation = \"Your income is lower than average, which might limit repayment ability.\"\n",
        "            else:\n",
        "                explanation = \"Your income is healthy, helping your loan approval.\"\n",
        "        else:\n",
        "            # Fallback generic explanation\n",
        "            explanation = feature_explanations.get(feat, f\"{feat} affects your loan decision.\")\n",
        "\n",
        "        direction = \"negatively\" if impact < 0 else \"positively\"\n",
        "        messages.append(f\"{explanation} This feature influenced your loan application {direction} with a value of {val:.2f}.\")\n",
        "\n",
        "    return \"\\n\".join(messages)\n",
        "\n",
        "def generate_advice(shap_df):\n",
        "    # Focus on features negatively impacting loan approval\n",
        "    negative_feats = shap_df[shap_df['SHAP Value'] < 0]\n",
        "    advices = []\n",
        "    for _, row in negative_feats.iterrows():\n",
        "        feat = row['Feature']\n",
        "        if feat == 'Credit_History':\n",
        "            advices.append(\"Try to improve your credit score or provide proof of past good credit.\")\n",
        "        elif feat == 'LoanAmount':\n",
        "            advices.append(\"Consider requesting a smaller loan amount to increase chances of approval.\")\n",
        "        elif feat == 'ApplicantIncome':\n",
        "            advices.append(\"Increasing your income or showing additional sources of income can help.\")\n",
        "        elif feat == 'CoapplicantIncome':\n",
        "            advices.append(\"Adding a co-applicant with a stable income may improve your chances.\")\n",
        "        elif feat == 'Loan_Amount_Term':\n",
        "            advices.append(\"Consider selecting a longer repayment term to reduce EMI burden.\")\n",
        "        elif feat == 'Self_Employed':\n",
        "            advices.append(\"Provide financial records to show income stability if self-employed.\")\n",
        "        elif feat == 'Dependents':\n",
        "            advices.append(\"If possible, reduce financial obligations or highlight other support sources.\")\n",
        "        elif feat == 'Education':\n",
        "            advices.append(\"Showcase additional qualifications or financial literacy if applicable.\")\n",
        "        elif feat == 'Property_Area':\n",
        "            advices.append(\"Highlight value or resale potential of the property to strengthen your case.\")\n",
        "        elif feat == 'Gender':\n",
        "            advices.append(\"Ensure all other factors are strong to mitigate bias, if any.\")\n",
        "        elif feat == 'Married':\n",
        "            advices.append(\"Provide documentation about dual income if applicable.\")\n",
        "        else:\n",
        "            advices.append(f\"Consider improving or clarifying your {feat.lower().replace('_', ' ')}.\")\n",
        "\n",
        "    if not advices:\n",
        "        advices.append(\"You're doing great! Try contacting the lender to clarify any specific concerns.\")\n",
        "\n",
        "    return \"\\n\".join(advices)\n",
        "\n",
        "\n",
        "# USES DICTIONARY TO MAP TECHNICAL TERMS WITH VERBAL TERMS - CREDIT = 0.0 - YOUR CREDIT HSTORY IS MISSING"
      ],
      "metadata": {
        "id": "odgC4PxOLems"
      },
      "execution_count": null,
      "outputs": []
    },
    {
      "cell_type": "code",
      "source": [
        "def plot_shap_pie_chart(shap_df):\n",
        "    # Use absolute SHAP values for proportions\n",
        "    labels = shap_df['Feature'][:5]  # Top 5 features\n",
        "    sizes = shap_df['SHAP Value'][:5].abs()\n",
        "    plt.figure(figsize=(6,6))\n",
        "    plt.pie(sizes, labels=labels, autopct='%1.1f%%', startangle=140)\n",
        "    plt.title('Feature Contribution to Loan Decision')\n",
        "    plt.show()\n",
        "\n",
        "# GRAPHICAL REPRESENTATION OF TOP 5 FEATURES THAT INFLUENCED IN DECISION AND IMPACT SHARE"
      ],
      "metadata": {
        "id": "aY0X2SWWLhtg"
      },
      "execution_count": null,
      "outputs": []
    },
    {
      "cell_type": "code",
      "source": [
        "def generate_final_loan_report(approved: bool, layman_text: str, advice_text: str) -> str:\n",
        "    status_icon = \"✅ Approved\" if approved else \"❌ Rejected\"\n",
        "    header = f\"📢 Loan Status: {status_icon}\\n\\n\"\n",
        "    explanation_section = f\"📝 Explanation:\\n{layman_text.strip()}\\n\\n\"\n",
        "    suggestions_section = f\"💡 Suggestions:\\n{advice_text.strip()}\\n\"\n",
        "    return header + explanation_section + suggestions_section\n",
        "\n",
        "def view_loan_report_for_sample(index):\n",
        "    explanation_df = shap_explanation_for_sample(shap_values, X_val, index)\n",
        "    layman_text = generate_layman_text(explanation_df)\n",
        "    advice_text = generate_advice(explanation_df)\n",
        "    approved = y_val.iloc[index] == 1\n",
        "    final_report = generate_final_loan_report(approved, layman_text, advice_text)\n",
        "    print(final_report)\n",
        "    plot_shap_pie_chart(explanation_df)\n",
        "\n",
        "\n",
        "# Try a different sample\n",
        "view_loan_report_for_sample(120)\n"
      ],
      "metadata": {
        "colab": {
          "base_uri": "https://localhost:8080/",
          "height": 749
        },
        "id": "wNW8FR1u6Okz",
        "outputId": "f794aae7-96be-4d4b-d383-09f9d5f47b65"
      },
      "execution_count": null,
      "outputs": [
        {
          "output_type": "stream",
          "name": "stdout",
          "text": [
            "📢 Loan Status: ❌ Rejected\n",
            "\n",
            "📝 Explanation:\n",
            "You have a good credit history, positively influencing your application. This feature influenced your loan application negatively with a value of -2.43.\n",
            "Number of dependents affects your financial obligations. This feature influenced your loan application positively with a value of 3.00.\n",
            "Your requested loan amount is reasonable. This feature influenced your loan application positively with a value of 0.15.\n",
            "\n",
            "💡 Suggestions:\n",
            "Try to improve your credit score or provide proof of past good credit.\n",
            "Provide financial records to show income stability if self-employed.\n",
            "Ensure all other factors are strong to mitigate bias, if any.\n",
            "\n"
          ]
        },
        {
          "output_type": "display_data",
          "data": {
            "text/plain": [
              "<Figure size 600x600 with 1 Axes>"
            ],
            "image/png": "[encoded data removed]"
          },
          "metadata": {}
        }
      ]
    },
    {
      "cell_type": "markdown",
      "source": [
        "SAVING THE MODEL"
      ],
      "metadata": {
        "id": "4rVvKUjr_2yn"
      }
    },
    {
      "cell_type": "code",
      "source": [
        "# Ensure directory exists\n",
        "os.makedirs('model', exist_ok=True)\n",
        "\n",
        "# Save label encoders\n",
        "if label_encoders:\n",
        "    for col, le in label_encoders.items():\n",
        "        path = f'models/{col}_label_encoder.pkl'\n",
        "        joblib.dump(le, path)\n",
        "        print(f\"✅ Saved encoder: {path}\")\n",
        "else:\n",
        "    print(\"❌ label_encoders dictionary is empty. Cannot save encoders.\")\n",
        "\n",
        "# Save scaler\n",
        "if 'scaler' in globals() and scaler is not None:\n",
        "    joblib.dump(scaler, 'models/scaler.pkl')\n",
        "    print(\"✅ Saved scaler successfully.\")\n",
        "else:\n",
        "    print(\"❌ Scaler not found or None.\")\n",
        "\n",
        "# Save model\n",
        "if 'model' in globals() and model is not None:\n",
        "    joblib.dump(model, 'models/loan_model.pkl')\n",
        "    print(\"✅ Saved model successfully.\")\n",
        "else:\n",
        "    print(\"❌ Model variable not found or is None.\")\n",
        "\n",
        "# Save SHAP explainer\n",
        "if 'explainer' in globals() and explainer is not None:\n",
        "    joblib.dump(explainer, 'models/shap_explainer.pkl')\n",
        "    print(\"✅ Saved SHAP explainer successfully.\")\n",
        "else:\n",
        "    print(\"❌ Explainer not found or is None.\")\n",
        "\n",
        "# Save feature names\n",
        "if 'feature_names' in globals() and feature_names is not None:\n",
        "    with open('models/feature_names.pkl', 'wb') as f:\n",
        "        pickle.dump(feature_names, f)\n",
        "    print(\"✅ Saved feature names successfully.\")\n",
        "elif 'X_val' in globals() and X_val is not None and hasattr(X_val, 'columns'):\n",
        "    feature_names_derived = X_val.columns.tolist()\n",
        "    with open('models/feature_names.pkl', 'wb') as f:\n",
        "        pickle.dump(feature_names_derived, f)\n",
        "    print(\"✅ Derived and saved feature names from X_val.\")\n",
        "else:\n",
        "    print(\"❌ Feature names variable not found and could not derive from X_val.\")\n"
      ],
      "metadata": {
        "colab": {
          "base_uri": "https://localhost:8080/"
        },
        "id": "sb1GvifNRPh0",
        "outputId": "f25034e8-edea-4705-af08-ac199e9ac660"
      },
      "execution_count": null,
      "outputs": [
        {
          "output_type": "stream",
          "name": "stdout",
          "text": [
            "✅ Saved encoder: models/gender_label_encoder.pkl\n",
            "✅ Saved encoder: models/education_label_encoder.pkl\n",
            "✅ Saved scaler successfully.\n",
            "✅ Saved model successfully.\n",
            "❌ Explainer not found or is None.\n",
            "✅ Saved feature names successfully.\n"
          ]
        }
      ]
    },
    {
      "cell_type": "markdown",
      "source": [
        "TESTING THE MODEL"
      ],
      "metadata": {
        "id": "Q7O71XC8RkMR"
      }
    },
    {
      "cell_type": "code",
      "source": [
        "# Upload test file\n",
        "uploaded = files.upload()\n",
        "\n",
        "# Load test data\n",
        "# Corrected filename to match the uploaded file name 'test_lAU.csv'\n",
        "test_df = pd.read_csv(\"test_lAU.csv\")\n",
        "\n",
        "print(\"Test dataset loaded successfully!\")\n",
        "print(test_df.head())"
      ],
      "metadata": {
        "id": "WSapGSS5QYkm",
        "colab": {
          "base_uri": "https://localhost:8080/",
          "height": 437
        },
        "outputId": "c793c611-cb6e-48ba-beba-b7d04ee02096"
      },
      "execution_count": null,
      "outputs": [
        {
          "output_type": "display_data",
          "data": {
            "text/plain": [
              "<IPython.core.display.HTML object>"
            ],
            "text/html": [
              "\n",
              "     <input type=\"file\" id=\"files-39e4a4b0-19a2-403d-acda-8a3a843296e4\" name=\"files[]\" multiple disabled\n",
              "        style=\"border:none\" />\n",
              "     <output id=\"result-39e4a4b0-19a2-403d-acda-8a3a843296e4\">\n",
              "      Upload widget is only available when the cell has been executed in the\n",
              "      current browser session. Please rerun this cell to enable.\n",
              "      </output>\n",
              "      <script>// Copyright 2017 Google LLC\n",
              "//\n",
              "// Licensed under the Apache License, Version 2.0 (the \"License\");\n",
              "// you may not use this file except in compliance with the License.\n",
              "// You may obtain a copy of the License at\n",
              "//\n",
              "//      http://www.apache.org/licenses/LICENSE-2.0\n",
              "//\n",
              "// Unless required by applicable law or agreed to in writing, software\n",
              "// distributed under the License is distributed on an \"AS IS\" BASIS,\n",
              "// WITHOUT WARRANTIES OR CONDITIONS OF ANY KIND, either express or implied.\n",
              "// See the License for the specific language governing permissions and\n",
              "// limitations under the License.\n",
              "\n",
              "/**\n",
              " * @fileoverview Helpers for google.colab Python module.\n",
              " */\n",
              "(function(scope) {\n",
              "function span(text, styleAttributes = {}) {\n",
              "  const element = document.createElement('span');\n",
              "  element.textContent = text;\n",
              "  for (const key of Object.keys(styleAttributes)) {\n",
              "    element.style[key] = styleAttributes[key];\n",
              "  }\n",
              "  return element;\n",
              "}\n",
              "\n",
              "// Max number of bytes which will be uploaded at a time.\n",
              "const MAX_PAYLOAD_SIZE = 100 * 1024;\n",
              "\n",
              "function _uploadFiles(inputId, outputId) {\n",
              "  const steps = uploadFilesStep(inputId, outputId);\n",
              "  const outputElement = document.getElementById(outputId);\n",
              "  // Cache steps on the outputElement to make it available for the next call\n",
              "  // to uploadFilesContinue from Python.\n",
              "  outputElement.steps = steps;\n",
              "\n",
              "  return _uploadFilesContinue(outputId);\n",
              "}\n",
              "\n",
              "// This is roughly an async generator (not supported in the browser yet),\n",
              "// where there are multiple asynchronous steps and the Python side is going\n",
              "// to poll for completion of each step.\n",
              "// This uses a Promise to block the python side on completion of each step,\n",
              "// then passes the result of the previous step as the input to the next step.\n",
              "function _uploadFilesContinue(outputId) {\n",
              "  const outputElement = document.getElementById(outputId);\n",
              "  const steps = outputElement.steps;\n",
              "\n",
              "  const next = steps.next(outputElement.lastPromiseValue);\n",
              "  return Promise.resolve(next.value.promise).then((value) => {\n",
              "    // Cache the last promise value to make it available to the next\n",
              "    // step of the generator.\n",
              "    outputElement.lastPromiseValue = value;\n",
              "    return next.value.response;\n",
              "  });\n",
              "}\n",
              "\n",
              "/**\n",
              " * Generator function which is called between each async step of the upload\n",
              " * process.\n",
              " * @param {string} inputId Element ID of the input file picker element.\n",
              " * @param {string} outputId Element ID of the output display.\n",
              " * @return {!Iterable<!Object>} Iterable of next steps.\n",
              " */\n",
              "function* uploadFilesStep(inputId, outputId) {\n",
              "  const inputElement = document.getElementById(inputId);\n",
              "  inputElement.disabled = false;\n",
              "\n",
              "  const outputElement = document.getElementById(outputId);\n",
              "  outputElement.innerHTML = '';\n",
              "\n",
              "  const pickedPromise = new Promise((resolve) => {\n",
              "    inputElement.addEventListener('change', (e) => {\n",
              "      resolve(e.target.files);\n",
              "    });\n",
              "  });\n",
              "\n",
              "  const cancel = document.createElement('button');\n",
              "  inputElement.parentElement.appendChild(cancel);\n",
              "  cancel.textContent = 'Cancel upload';\n",
              "  const cancelPromise = new Promise((resolve) => {\n",
              "    cancel.onclick = () => {\n",
              "      resolve(null);\n",
              "    };\n",
              "  });\n",
              "\n",
              "  // Wait for the user to pick the files.\n",
              "  const files = yield {\n",
              "    promise: Promise.race([pickedPromise, cancelPromise]),\n",
              "    response: {\n",
              "      action: 'starting',\n",
              "    }\n",
              "  };\n",
              "\n",
              "  cancel.remove();\n",
              "\n",
              "  // Disable the input element since further picks are not allowed.\n",
              "  inputElement.disabled = true;\n",
              "\n",
              "  if (!files) {\n",
              "    return {\n",
              "      response: {\n",
              "        action: 'complete',\n",
              "      }\n",
              "    };\n",
              "  }\n",
              "\n",
              "  for (const file of files) {\n",
              "    const li = document.createElement('li');\n",
              "    li.append(span(file.name, {fontWeight: 'bold'}));\n",
              "    li.append(span(\n",
              "        `(${file.type || 'n/a'}) - ${file.size} bytes, ` +\n",
              "        `last modified: ${\n",
              "            file.lastModifiedDate ? file.lastModifiedDate.toLocaleDateString() :\n",
              "                                    'n/a'} - `));\n",
              "    const percent = span('0% done');\n",
              "    li.appendChild(percent);\n",
              "\n",
              "    outputElement.appendChild(li);\n",
              "\n",
              "    const fileDataPromise = new Promise((resolve) => {\n",
              "      const reader = new FileReader();\n",
              "      reader.onload = (e) => {\n",
              "        resolve(e.target.result);\n",
              "      };\n",
              "      reader.readAsArrayBuffer(file);\n",
              "    });\n",
              "    // Wait for the data to be ready.\n",
              "    let fileData = yield {\n",
              "      promise: fileDataPromise,\n",
              "      response: {\n",
              "        action: 'continue',\n",
              "      }\n",
              "    };\n",
              "\n",
              "    // Use a chunked sending to avoid message size limits. See b/62115660.\n",
              "    let position = 0;\n",
              "    do {\n",
              "      const length = Math.min(fileData.byteLength - position, MAX_PAYLOAD_SIZE);\n",
              "      const chunk = new Uint8Array(fileData, position, length);\n",
              "      position += length;\n",
              "\n",
              "      const base64 = btoa(String.fromCharCode.apply(null, chunk));\n",
              "      yield {\n",
              "        response: {\n",
              "          action: 'append',\n",
              "          file: file.name,\n",
              "          data: base64,\n",
              "        },\n",
              "      };\n",
              "\n",
              "      let percentDone = fileData.byteLength === 0 ?\n",
              "          100 :\n",
              "          Math.round((position / fileData.byteLength) * 100);\n",
              "      percent.textContent = `${percentDone}% done`;\n",
              "\n",
              "    } while (position < fileData.byteLength);\n",
              "  }\n",
              "\n",
              "  // All done.\n",
              "  yield {\n",
              "    response: {\n",
              "      action: 'complete',\n",
              "    }\n",
              "  };\n",
              "}\n",
              "\n",
              "scope.google = scope.google || {};\n",
              "scope.google.colab = scope.google.colab || {};\n",
              "scope.google.colab._files = {\n",
              "  _uploadFiles,\n",
              "  _uploadFilesContinue,\n",
              "};\n",
              "})(self);\n",
              "</script> "
            ]
          },
          "metadata": {}
        },
        {
          "output_type": "stream",
          "name": "stdout",
          "text": [
            "Saving test_lAU.csv to test_lAU.csv\n",
            "Test dataset loaded successfully!\n",
            "    Loan_ID Gender Married Dependents     Education Self_Employed  \\\n",
            "0  LP001015   Male     Yes          0      Graduate            No   \n",
            "1  LP001022   Male     Yes          1      Graduate            No   \n",
            "2  LP001031   Male     Yes          2      Graduate            No   \n",
            "3  LP001035   Male     Yes          2      Graduate            No   \n",
            "4  LP001051   Male      No          0  Not Graduate            No   \n",
            "\n",
            "   ApplicantIncome  CoapplicantIncome  LoanAmount  Loan_Amount_Term  \\\n",
            "0             5720                  0       110.0             360.0   \n",
            "1             3076               1500       126.0             360.0   \n",
            "2             5000               1800       208.0             360.0   \n",
            "3             2340               2546       100.0             360.0   \n",
            "4             3276                  0        78.0             360.0   \n",
            "\n",
            "   Credit_History Property_Area  \n",
            "0             1.0         Urban  \n",
            "1             1.0         Urban  \n",
            "2             1.0         Urban  \n",
            "3             NaN         Urban  \n",
            "4             1.0         Urban  \n"
          ]
        }
      ]
    },
    {
      "cell_type": "code",
      "source": [
        "print(scaler.feature_names_in_)"
      ],
      "metadata": {
        "colab": {
          "base_uri": "https://localhost:8080/"
        },
        "id": "pUxuvk7KMlDN",
        "outputId": "d9e1874a-b73b-4f40-81ef-2502b8d3c91e"
      },
      "execution_count": null,
      "outputs": [
        {
          "output_type": "stream",
          "name": "stdout",
          "text": [
            "['ApplicantIncome' 'CoapplicantIncome' 'LoanAmount' 'Credit_History']\n"
          ]
        }
      ]
    },
    {
      "cell_type": "code",
      "source": [
        "# Load saved preprocessing and model components\n",
        "# Ensure these files were saved in previous steps\n",
        "try:\n",
        "    scaler = joblib.load('models/scaler.pkl')\n",
        "    model = joblib.load('models/loan_model.pkl')\n",
        "    explainer = joblib.load('models/shap_explainer.pkl')\n",
        "    feature_names = joblib.load('models/feature_names.pkl')\n",
        "\n",
        "    categorical_columns = ['Gender', 'Married', 'Dependents', 'Education', 'Self_Employed', 'Property_Area', 'Loan_Amount_Term']\n",
        "\n",
        "    label_encoders = {}\n",
        "    for col in categorical_columns:\n",
        "        # This is the line that failed\n",
        "        label_encoders[col] = joblib.load(f'models/{col}_label_encoder.pkl')\n",
        "        print(f\"✅ Loaded encoder for: {col}\") # Optional: Add print statements\n",
        "except FileNotFoundError as e:\n",
        "    print(f\"❌ Error loading file: {e}\")\n",
        "    print(\"Please ensure all necessary model and preprocessing files are saved in the 'models/' directory.\")\n",
        "except Exception as e:\n",
        "    print(f\"An unexpected error occurred during loading: {e}\")"
      ],
      "metadata": {
        "colab": {
          "base_uri": "https://localhost:8080/"
        },
        "id": "NoN8fkiamnr5",
        "outputId": "75b5e8d8-56fc-4686-b515-c5f5784ef763"
      },
      "execution_count": null,
      "outputs": [
        {
          "output_type": "stream",
          "name": "stdout",
          "text": [
            "✅ Loaded encoder for: Gender\n",
            "✅ Loaded encoder for: Married\n",
            "✅ Loaded encoder for: Dependents\n",
            "✅ Loaded encoder for: Education\n",
            "✅ Loaded encoder for: Self_Employed\n",
            "✅ Loaded encoder for: Property_Area\n",
            "✅ Loaded encoder for: Loan_Amount_Term\n"
          ]
        }
      ]
    },
    {
      "cell_type": "code",
      "source": [
        "categorical_columns = ['Gender', 'Married', 'Dependents', 'Education', 'Self_Employed', 'Property_Area', 'Loan_Amount_Term']\n",
        "print(\"Missing columns:\", [col for col in categorical_columns if col not in df.columns])\n"
      ],
      "metadata": {
        "colab": {
          "base_uri": "https://localhost:8080/"
        },
        "id": "fzT_vKhkCTEd",
        "outputId": "c2630162-1721-4f97-d5ef-7d2e16e6bf0d"
      },
      "execution_count": null,
      "outputs": [
        {
          "output_type": "stream",
          "name": "stdout",
          "text": [
            "Missing columns: []\n"
          ]
        }
      ]
    },
    {
      "cell_type": "code",
      "source": [
        "!ls models"
      ],
      "metadata": {
        "id": "wkq1pluwRa_j",
        "colab": {
          "base_uri": "https://localhost:8080/"
        },
        "outputId": "4eb0da77-e800-4c7b-bca9-892518a5a11b"
      },
      "execution_count": null,
      "outputs": [
        {
          "output_type": "stream",
          "name": "stdout",
          "text": [
            "Dependents_label_encoder.pkl\t    Married_label_encoder.pkl\n",
            "Education_label_encoder.pkl\t    Property_Area_label_encoder.pkl\n",
            "feature_names.pkl\t\t    scaler.pkl\n",
            "Gender_label_encoder.pkl\t    Self_Employed_label_encoder.pkl\n",
            "Loan_Amount_Term_label_encoder.pkl  shap_explainer.pkl\n",
            "loan_model.pkl\n"
          ]
        }
      ]
    },
    {
      "cell_type": "markdown",
      "source": [
        "PREPROCESS TEST DATA"
      ],
      "metadata": {
        "id": "H0v5-CB7z2NQ"
      }
    },
    {
      "cell_type": "code",
      "source": [
        "print(\"Missing values in test data:\")\n",
        "print(test_df.isnull().sum())"
      ],
      "metadata": {
        "id": "-O2ojNzorLa5",
        "colab": {
          "base_uri": "https://localhost:8080/"
        },
        "outputId": "4da5ace7-5bcb-43c1-a479-3565050cc485"
      },
      "execution_count": null,
      "outputs": [
        {
          "output_type": "stream",
          "name": "stdout",
          "text": [
            "Missing values in test data:\n",
            "Loan_ID               0\n",
            "Gender               11\n",
            "Married               0\n",
            "Dependents           10\n",
            "Education             0\n",
            "Self_Employed        23\n",
            "ApplicantIncome       0\n",
            "CoapplicantIncome     0\n",
            "LoanAmount            5\n",
            "Loan_Amount_Term      6\n",
            "Credit_History       29\n",
            "Property_Area         0\n",
            "dtype: int64\n"
          ]
        }
      ]
    },
    {
      "cell_type": "code",
      "source": [
        "# Assuming df is your training DataFrame\n",
        "default_fill_values = {\n",
        "    col: df[col].mode()[0] for col in ['Gender', 'Married', 'Dependents', 'Education', 'Self_Employed', 'Property_Area']\n",
        "}\n",
        "default_fill_values['Loan_Amount_Term'] = df['Loan_Amount_Term'].mode()[0]\n",
        "default_fill_values['Credit_History'] = df['Credit_History'].mode()[0]\n",
        "default_fill_values['LoanAmount'] = df['LoanAmount'].fillna(df['LoanAmount'].median())\n",
        "\n",
        "\n",
        "# Fill test_df only where necessary\n",
        "test_df.fillna(default_fill_values, inplace=True)"
      ],
      "metadata": {
        "id": "OieyqeKfr97B"
      },
      "execution_count": null,
      "outputs": []
    },
    {
      "cell_type": "code",
      "source": [
        "print(\"Missing values in test data:\")\n",
        "print(test_df.isnull().sum())"
      ],
      "metadata": {
        "colab": {
          "base_uri": "https://localhost:8080/"
        },
        "id": "RlpLfpi7UmXd",
        "outputId": "53628758-b0c6-4d1b-c654-3c10853cd604"
      },
      "execution_count": null,
      "outputs": [
        {
          "output_type": "stream",
          "name": "stdout",
          "text": [
            "Missing values in test data:\n",
            "Loan_ID              0\n",
            "Gender               0\n",
            "Married              0\n",
            "Dependents           0\n",
            "Education            0\n",
            "Self_Employed        0\n",
            "ApplicantIncome      0\n",
            "CoapplicantIncome    0\n",
            "LoanAmount           0\n",
            "Loan_Amount_Term     0\n",
            "Credit_History       0\n",
            "Property_Area        0\n",
            "dtype: int64\n"
          ]
        }
      ]
    },
    {
      "cell_type": "markdown",
      "source": [
        "ENCODE AND SCALE TEST DATA"
      ],
      "metadata": {
        "id": "cFMJz538Va-w"
      }
    },
    {
      "cell_type": "code",
      "source": [
        "# Encode categorical columns using saved label encoders\n",
        "for col in categorical_columns:\n",
        "    le = label_encoders[col]\n",
        "    test_df[col] = test_df[col].apply(lambda x: x if x in le.classes_ else le.classes_[0])\n",
        "    test_df[col] = le.transform(test_df[col])\n",
        "\n",
        "# Scale numerical columns\n",
        "numerical_cols = ['ApplicantIncome', 'CoapplicantIncome', 'LoanAmount', 'Credit_History']\n",
        "test_df[numerical_cols] = scaler.transform(test_df[numerical_cols])\n",
        "\n",
        "# Prepare feature matrix\n",
        "X_test = test_df.drop(columns=['Loan_ID'], errors='ignore')"
      ],
      "metadata": {
        "id": "w3UqmhyBUnrV"
      },
      "execution_count": null,
      "outputs": []
    },
    {
      "cell_type": "code",
      "source": [
        "# Make predictions\n",
        "y_test_pred = model.predict(X_test)"
      ],
      "metadata": {
        "id": "s0o2NbWZVRFZ"
      },
      "execution_count": null,
      "outputs": []
    },
    {
      "cell_type": "code",
      "source": [
        "shap_values_test = explainer.shap_values(X_test)\n",
        "print(\"Number of test samples:\", test_df.shape[0])"
      ],
      "metadata": {
        "colab": {
          "base_uri": "https://localhost:8080/"
        },
        "id": "KqIcVfobVfGt",
        "outputId": "0f852195-de92-4fea-8155-511a42fdb7cf"
      },
      "execution_count": null,
      "outputs": [
        {
          "output_type": "stream",
          "name": "stdout",
          "text": [
            "Number of test samples: 367\n"
          ]
        }
      ]
    },
    {
      "cell_type": "markdown",
      "source": [
        "MAKE PREDICTIONS"
      ],
      "metadata": {
        "id": "5ZsyIL-ZnKsm"
      }
    },
    {
      "cell_type": "code",
      "source": [
        "def view_loan_report_for_sample(index):\n",
        "    explanation_df = shap_explanation_for_sample(shap_values, X_test, index)\n",
        "    layman_text = generate_layman_text(explanation_df)\n",
        "    advice_text = generate_advice(explanation_df)\n",
        "    approved = y_test_pred[index] == 1\n",
        "    final_report = generate_final_loan_report(approved, layman_text, advice_text)\n",
        "    print(final_report)\n",
        "    plot_shap_pie_chart(explanation_df)\n",
        "view_loan_report_for_sample(7)"
      ],
      "metadata": {
        "colab": {
          "base_uri": "https://localhost:8080/",
          "height": 767
        },
        "id": "di9s3H4bVgrn",
        "outputId": "5623fce9-57f1-4837-c6b2-ba7a54e25b94"
      },
      "execution_count": null,
      "outputs": [
        {
          "output_type": "stream",
          "name": "stdout",
          "text": [
            "📢 Loan Status: ❌ Rejected\n",
            "\n",
            "📝 Explanation:\n",
            "Your income is lower than average, which might limit repayment ability. This feature influenced your loan application negatively with a value of -0.25.\n",
            "Your requested loan amount is reasonable. This feature influenced your loan application negatively with a value of 0.01.\n",
            "You have a good credit history, positively influencing your application. This feature influenced your loan application positively with a value of -2.43.\n",
            "\n",
            "💡 Suggestions:\n",
            "Increasing your income or showing additional sources of income can help.\n",
            "Consider requesting a smaller loan amount to increase chances of approval.\n",
            "If possible, reduce financial obligations or highlight other support sources.\n",
            "Ensure all other factors are strong to mitigate bias, if any.\n",
            "\n"
          ]
        },
        {
          "output_type": "display_data",
          "data": {
            "text/plain": [
              "<Figure size 600x600 with 1 Axes>"
            ],
            "image/png": "[encoded data removed]"
          },
          "metadata": {}
        }
      ]
    },
    {
      "cell_type": "code",
      "source": [
        "shap.plots.waterfall(shap.Explanation(values=shap_values[7],\n",
        "                                      base_values=explainer.expected_value,\n",
        "                                      data=X_val.iloc[7],\n",
        "                                      feature_names=X_val.columns.tolist()))\n",
        "#Change the SHAP index value(x) - shap_values[x]"
      ],
      "metadata": {
        "colab": {
          "base_uri": "https://localhost:8080/",
          "height": 447
        },
        "id": "E01burEKUQHl",
        "outputId": "b2cb38e1-b1b0-4eee-f60c-b0db86c5222e"
      },
      "execution_count": null,
      "outputs": [
        {
          "output_type": "display_data",
          "data": {
            "text/plain": [
              "<Figure size 800x650 with 3 Axes>"
            ],
            "image/png": "[encoded data removed]"
          },
          "metadata": {}
        }
      ]
    },
    {
      "cell_type": "code",
      "source": [
        "y_test_pred = model.predict(X_test)  # 1 = Approved, 0 = Rejected\n",
        "approved_count = np.sum(y_test_pred == 1)\n",
        "rejected_count = np.sum(y_test_pred == 0)\n",
        "\n",
        "print(f\"✅ Approved Loans: {approved_count}\")\n",
        "print(f\"❌ Rejected Loans: {rejected_count}\")\n",
        "\n",
        "labels = ['Approved', 'Rejected']\n",
        "sizes = [approved_count, rejected_count]\n",
        "colors = ['#4CAF50', '#F44336']\n",
        "\n",
        "plt.figure(figsize=(6, 6))\n",
        "plt.pie(sizes, labels=labels, colors=colors, autopct='%1.1f%%', startangle=140)\n",
        "plt.title('Loan Approval vs Rejection in Test Data')\n",
        "plt.axis('equal')\n",
        "plt.show()"
      ],
      "metadata": {
        "colab": {
          "base_uri": "https://localhost:8080/",
          "height": 556
        },
        "id": "IjE8ri1ZVtyM",
        "outputId": "272ed193-8ac4-49e2-b9a5-067d852609c0"
      },
      "execution_count": null,
      "outputs": [
        {
          "output_type": "stream",
          "name": "stdout",
          "text": [
            "✅ Approved Loans: 222\n",
            "❌ Rejected Loans: 145\n"
          ]
        },
        {
          "output_type": "display_data",
          "data": {
            "text/plain": [
              "<Figure size 600x600 with 1 Axes>"
            ],
            "image/png": "[encoded data removed]"
          },
          "metadata": {}
        }
      ]
    },
    {
      "cell_type": "code",
      "source": [
        "reports = []\n",
        "\n",
        "for idx in range(X_test.shape[0]):\n",
        "    explanation_df = shap_explanation_for_sample(shap_values_test, X_test, idx)\n",
        "    layman_text = generate_layman_text(explanation_df)\n",
        "    advice_text = generate_advice(explanation_df)\n",
        "    approved = y_test_pred[idx] == 1\n",
        "    report_text = generate_final_loan_report(approved, layman_text, advice_text)\n",
        "\n",
        "    reports.append({\n",
        "        'Loan_ID': test_df.iloc[idx]['Loan_ID'] if 'Loan_ID' in test_df.columns else f\"Sample_{idx}\",\n",
        "        'Loan_Status': 'Approved' if approved else 'Rejected',\n",
        "        'Report': report_text\n",
        "    })\n",
        "\n",
        "# Save as CSV\n",
        "report_df = pd.DataFrame(reports)\n",
        "report_df.to_csv('loan_decision_reports.csv', index=False)\n",
        "print(\"✅ Reports saved to 'loan_decision_reports.csv'\")\n"
      ],
      "metadata": {
        "colab": {
          "base_uri": "https://localhost:8080/"
        },
        "id": "-IO3IK1WWA3L",
        "outputId": "8424ff5b-e485-4fc6-dc60-55320b086388"
      },
      "execution_count": null,
      "outputs": [
        {
          "output_type": "stream",
          "name": "stdout",
          "text": [
            "✅ Reports saved to 'loan_decision_reports.csv'\n"
          ]
        }
      ]
    },
    {
      "cell_type": "code",
      "source": [
        "# Get predicted probabilities for class 1 (Approved)\n",
        "y_test_proba = model.predict_proba(X_test)[:, 1]\n",
        "\n",
        "# Show top 5 probabilities\n",
        "import pandas as pd\n",
        "proba_df = pd.DataFrame({\n",
        "    'Loan_ID': test_df['Loan_ID'],\n",
        "    'Prediction': y_test_pred,\n",
        "    'Approval_Probability': y_test_proba\n",
        "})\n",
        "\n",
        "print(proba_df.head())\n"
      ],
      "metadata": {
        "colab": {
          "base_uri": "https://localhost:8080/"
        },
        "id": "zko_O8hefgVy",
        "outputId": "12186f4b-afd8-4b5b-edd3-bdea8ac919af"
      },
      "execution_count": null,
      "outputs": [
        {
          "output_type": "stream",
          "name": "stdout",
          "text": [
            "    Loan_ID  Prediction  Approval_Probability\n",
            "0  LP001015           1              0.599438\n",
            "1  LP001022           1              0.972474\n",
            "2  LP001031           1              0.879301\n",
            "3  LP001035           0              0.068056\n",
            "4  LP001051           0              0.424861\n"
          ]
        }
      ]
    }
  ],
  "metadata": {
    "colab": {
      "provenance": []
    },
    "kernelspec": {
      "display_name": "Python 3",
      "name": "python3"
    }
  },
  "nbformat": 4,
  "nbformat_minor": 0
}